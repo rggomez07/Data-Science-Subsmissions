{
 "cells": [
  {
   "cell_type": "markdown",
   "id": "437e80d0-d651-4917-90bf-176a5ac48a7a",
   "metadata": {},
   "source": [
    "# Data Science Tools and Ecosystem "
   ]
  },
  {
   "cell_type": "code",
   "execution_count": null,
   "id": "054dac51-bf44-4d7b-aa8c-d55ca4c4cd4c",
   "metadata": {},
   "outputs": [],
   "source": []
  },
  {
   "cell_type": "markdown",
   "id": "41c26aa7-25cf-46ae-8cbb-e88037a28ede",
   "metadata": {},
   "source": [
    "In this notebook, Data Science Tools and Ecosystem are summarized."
   ]
  },
  {
   "cell_type": "markdown",
   "id": "b10cb783-bff5-40c8-b55c-a2a4ccb48927",
   "metadata": {},
   "source": [
    "Some of the popular languages that Data Scientists use are:\n",
    "1. R\n",
    "2. Python\n",
    "3. Scala\n",
    "4. Julia"
   ]
  },
  {
   "cell_type": "markdown",
   "id": "e86d96f0-ca27-475a-94cc-d93ca8c8473f",
   "metadata": {},
   "source": [
    "Some of the commonly used libraries by Data Scientists include:\n",
    "1. Pandas\n",
    "2. Numpy\n",
    "3. Matplotlib"
   ]
  },
  {
   "cell_type": "markdown",
   "id": "fbc5c957-3b3f-4aae-9844-b1dcee6db062",
   "metadata": {},
   "source": [
    "| Data Science Tools |\n",
    "|-----|\n",
    "| Jupyter Notebook |\n",
    "| RStudio |\n",
    "| PyCharm |\n",
    "| Google Colab |"
   ]
  },
  {
   "cell_type": "markdown",
   "id": "7ff93e0e-ce48-4dd2-9c29-54ad23934f86",
   "metadata": {},
   "source": [
    "### Below are a few examples of evaluating arithmetic expressions in Python:"
   ]
  },
  {
   "cell_type": "code",
   "execution_count": 13,
   "id": "3530c238-7dc7-45ef-a230-029cfebb16eb",
   "metadata": {},
   "outputs": [
    {
     "data": {
      "text/plain": [
       "17"
      ]
     },
     "execution_count": 13,
     "metadata": {},
     "output_type": "execute_result"
    }
   ],
   "source": [
    "#This a simple arithmetic expression to mutiply then add integers\n",
    "(3*4)+5"
   ]
  },
  {
   "cell_type": "code",
   "execution_count": 15,
   "id": "30916779-d4f7-4575-b9c8-7b397cf6f639",
   "metadata": {},
   "outputs": [
    {
     "data": {
      "text/plain": [
       "3.3333333333333335"
      ]
     },
     "execution_count": 15,
     "metadata": {},
     "output_type": "execute_result"
    }
   ],
   "source": [
    "#This will convert 200 minutes to hours by diving by 60\n",
    "200/60"
   ]
  },
  {
   "cell_type": "markdown",
   "id": "73674056-af22-45f3-a6a8-6a2b34d4fe83",
   "metadata": {},
   "source": []
  },
  {
   "cell_type": "markdown",
   "id": "31f05c25-7544-4be3-8111-a4ba22950be2",
   "metadata": {},
   "source": [
    "## Author\n",
    "Rainier Gomez"
   ]
  },
  {
   "cell_type": "code",
   "execution_count": null,
   "id": "acc7571d-f5a7-476a-b164-e09f5e300c46",
   "metadata": {},
   "outputs": [],
   "source": []
  }
 ],
 "metadata": {
  "kernelspec": {
   "display_name": "Python [conda env:MaxeneMagalona]",
   "language": "python",
   "name": "conda-env-MaxeneMagalona-py"
  },
  "language_info": {
   "codemirror_mode": {
    "name": "ipython",
    "version": 3
   },
   "file_extension": ".py",
   "mimetype": "text/x-python",
   "name": "python",
   "nbconvert_exporter": "python",
   "pygments_lexer": "ipython3",
   "version": "3.12.9"
  }
 },
 "nbformat": 4,
 "nbformat_minor": 5
}
